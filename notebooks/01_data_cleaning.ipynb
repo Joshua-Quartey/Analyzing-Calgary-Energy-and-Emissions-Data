{
 "cells": [
  {
   "cell_type": "markdown",
   "metadata": {},
   "source": [
    "## Data Cleaning and Preprocessing"
   ]
  },
  {
   "cell_type": "code",
   "execution_count": 17,
   "metadata": {},
   "outputs": [],
   "source": [
    "import config"
   ]
  },
  {
   "cell_type": "markdown",
   "metadata": {},
   "source": [
    "### Loading and Inspecting the Dataset"
   ]
  },
  {
   "cell_type": "code",
   "execution_count": 18,
   "metadata": {},
   "outputs": [
    {
     "name": "stdout",
     "output_type": "stream",
     "text": [
      "(494, 31)\n",
      "<class 'pandas.core.frame.DataFrame'>\n",
      "RangeIndex: 494 entries, 0 to 493\n",
      "Data columns (total 31 columns):\n",
      " #   Column                                                                 Non-Null Count  Dtype  \n",
      "---  ------                                                                 --------------  -----  \n",
      " 0   Property Id                                                            494 non-null    int64  \n",
      " 1   Property Name                                                          494 non-null    object \n",
      " 2   Address 1                                                              494 non-null    object \n",
      " 3   City                                                                   494 non-null    object \n",
      " 4   Postal Code                                                            494 non-null    object \n",
      " 5   Province                                                               494 non-null    object \n",
      " 6   Primary Property Type - Self Selected                                  494 non-null    object \n",
      " 7   Number of Buildings                                                    494 non-null    int64  \n",
      " 8   Year Built                                                             494 non-null    int64  \n",
      " 9   Property GFA - Self-Reported (m²)                                      494 non-null    object \n",
      " 10  ENERGY STAR Score                                                      165 non-null    float64\n",
      " 11  Site Energy Use (GJ)                                                   494 non-null    object \n",
      " 12  Weather Normalized Site Energy Use (GJ)                                494 non-null    object \n",
      " 13  Site EUI (GJ/m²)                                                       494 non-null    float64\n",
      " 14  Weather Normalized Site EUI (GJ/m²)                                    494 non-null    float64\n",
      " 15  Source Energy Use (GJ)                                                 494 non-null    object \n",
      " 16  Weather Normalized Source Energy Use (GJ)                              492 non-null    object \n",
      " 17  Source EUI (GJ/m²)                                                     494 non-null    float64\n",
      " 18  Weather Normalized Source EUI (GJ/m²)                                  494 non-null    float64\n",
      " 19  Total GHG Emissions (Metric Tons CO2e)                                 494 non-null    object \n",
      " 20  Total GHG Emissions Intensity (kgCO2e/m²)                              494 non-null    float64\n",
      " 21  Direct GHG Emissions (Metric Tons CO2e)                                494 non-null    object \n",
      " 22  Direct GHG Emissions Intensity (kgCO2e/m²)                             494 non-null    float64\n",
      " 23  Electricity Use - Grid Purchase (kWh)                                  494 non-null    object \n",
      " 24  Natural Gas Use (GJ)                                                   484 non-null    object \n",
      " 25  District Hot Water Use (GJ)                                            15 non-null     object \n",
      " 26  Electricity Use – Generated from Onsite Renewable Systems (kWh)        44 non-null     float64\n",
      " 27  Green Power - Onsite and Offsite (kWh)                                 296 non-null    float64\n",
      " 28  Avoided Emissions - Onsite and Offsite Green Power (Metric Tons CO2e)  296 non-null    float64\n",
      " 29  Year Ending                                                            494 non-null    int64  \n",
      " 30  Unique ID                                                              494 non-null    object \n",
      "dtypes: float64(10), int64(4), object(17)\n",
      "memory usage: 119.8+ KB\n"
     ]
    },
    {
     "name": "stderr",
     "output_type": "stream",
     "text": [
      "c:\\Users\\Joshua Q\\Documents\\Personal\\grad school\\Ucalgary\\DATA 601 - Working with Data and Visualization\\submissions\\HW4\\notebooks\\clean.py:48: UserWarning: This pattern is interpreted as a regular expression, and has match groups. To actually get the groups, use str.extract.\n",
      "  # Applies the following format to all adresses\n",
      "c:\\Users\\Joshua Q\\Documents\\Personal\\grad school\\Ucalgary\\DATA 601 - Working with Data and Visualization\\submissions\\HW4\\notebooks\\clean.py:77: SettingWithCopyWarning: \n",
      "A value is trying to be set on a copy of a slice from a DataFrame.\n",
      "Try using .loc[row_indexer,col_indexer] = value instead\n",
      "\n",
      "See the caveats in the documentation: https://pandas.pydata.org/pandas-docs/stable/user_guide/indexing.html#returning-a-view-versus-a-copy\n",
      "  \"\"\"\n",
      "c:\\Users\\Joshua Q\\Documents\\Personal\\grad school\\Ucalgary\\DATA 601 - Working with Data and Visualization\\submissions\\HW4\\notebooks\\clean.py:77: SettingWithCopyWarning: \n",
      "A value is trying to be set on a copy of a slice from a DataFrame\n",
      "\n",
      "See the caveats in the documentation: https://pandas.pydata.org/pandas-docs/stable/user_guide/indexing.html#returning-a-view-versus-a-copy\n",
      "  \"\"\"\n"
     ]
    }
   ],
   "source": [
    "df_raw = config.main()[0]\n",
    "print(df_raw.shape)\n",
    "df_raw.info(verbose=True)"
   ]
  },
  {
   "cell_type": "code",
   "execution_count": 19,
   "metadata": {},
   "outputs": [
    {
     "data": {
      "text/plain": [
       "Property Id                                                                0\n",
       "Property Name                                                              0\n",
       "Address 1                                                                  0\n",
       "City                                                                       0\n",
       "Postal Code                                                                0\n",
       "Province                                                                   0\n",
       "Primary Property Type - Self Selected                                      0\n",
       "Number of Buildings                                                        0\n",
       "Year Built                                                                 0\n",
       "Property GFA - Self-Reported (m²)                                          0\n",
       "ENERGY STAR Score                                                        329\n",
       "Site Energy Use (GJ)                                                       0\n",
       "Weather Normalized Site Energy Use (GJ)                                    0\n",
       "Site EUI (GJ/m²)                                                           0\n",
       "Weather Normalized Site EUI (GJ/m²)                                        0\n",
       "Source Energy Use (GJ)                                                     0\n",
       "Weather Normalized Source Energy Use (GJ)                                  2\n",
       "Source EUI (GJ/m²)                                                         0\n",
       "Weather Normalized Source EUI (GJ/m²)                                      0\n",
       "Total GHG Emissions (Metric Tons CO2e)                                     0\n",
       "Total GHG Emissions Intensity (kgCO2e/m²)                                  0\n",
       "Direct GHG Emissions (Metric Tons CO2e)                                    0\n",
       "Direct GHG Emissions Intensity (kgCO2e/m²)                                 0\n",
       "Electricity Use - Grid Purchase (kWh)                                      0\n",
       "Natural Gas Use (GJ)                                                      10\n",
       "District Hot Water Use (GJ)                                              479\n",
       "Electricity Use – Generated from Onsite Renewable Systems (kWh)          450\n",
       "Green Power - Onsite and Offsite (kWh)                                   198\n",
       "Avoided Emissions - Onsite and Offsite Green Power (Metric Tons CO2e)    198\n",
       "Year Ending                                                                0\n",
       "Unique ID                                                                  0\n",
       "dtype: int64"
      ]
     },
     "execution_count": 19,
     "metadata": {},
     "output_type": "execute_result"
    }
   ],
   "source": [
    "df_raw.isna().sum()"
   ]
  },
  {
   "cell_type": "code",
   "execution_count": 20,
   "metadata": {},
   "outputs": [
    {
     "data": {
      "text/html": [
       "<div>\n",
       "<style scoped>\n",
       "    .dataframe tbody tr th:only-of-type {\n",
       "        vertical-align: middle;\n",
       "    }\n",
       "\n",
       "    .dataframe tbody tr th {\n",
       "        vertical-align: top;\n",
       "    }\n",
       "\n",
       "    .dataframe thead th {\n",
       "        text-align: right;\n",
       "    }\n",
       "</style>\n",
       "<table border=\"1\" class=\"dataframe\">\n",
       "  <thead>\n",
       "    <tr style=\"text-align: right;\">\n",
       "      <th></th>\n",
       "      <th>Property Id</th>\n",
       "      <th>Property Name</th>\n",
       "      <th>Address 1</th>\n",
       "      <th>City</th>\n",
       "      <th>Postal Code</th>\n",
       "      <th>Province</th>\n",
       "      <th>Primary Property Type - Self Selected</th>\n",
       "      <th>Number of Buildings</th>\n",
       "      <th>Year Built</th>\n",
       "      <th>Property GFA - Self-Reported (m²)</th>\n",
       "      <th>...</th>\n",
       "      <th>Direct GHG Emissions (Metric Tons CO2e)</th>\n",
       "      <th>Direct GHG Emissions Intensity (kgCO2e/m²)</th>\n",
       "      <th>Electricity Use - Grid Purchase (kWh)</th>\n",
       "      <th>Natural Gas Use (GJ)</th>\n",
       "      <th>District Hot Water Use (GJ)</th>\n",
       "      <th>Electricity Use – Generated from Onsite Renewable Systems (kWh)</th>\n",
       "      <th>Green Power - Onsite and Offsite (kWh)</th>\n",
       "      <th>Avoided Emissions - Onsite and Offsite Green Power (Metric Tons CO2e)</th>\n",
       "      <th>Year Ending</th>\n",
       "      <th>Unique ID</th>\n",
       "    </tr>\n",
       "  </thead>\n",
       "  <tbody>\n",
       "    <tr>\n",
       "      <th>0</th>\n",
       "      <td>10176804</td>\n",
       "      <td>Acadia Aquatic &amp; Fitness Centre</td>\n",
       "      <td>9009 Fairmount Dr SE</td>\n",
       "      <td>Calgary</td>\n",
       "      <td>T2H 0Z4</td>\n",
       "      <td>Alberta</td>\n",
       "      <td>Heated Swimming Pool</td>\n",
       "      <td>1</td>\n",
       "      <td>2010</td>\n",
       "      <td>1838</td>\n",
       "      <td>...</td>\n",
       "      <td>280</td>\n",
       "      <td>152.4</td>\n",
       "      <td>368616</td>\n",
       "      <td>5453</td>\n",
       "      <td>NaN</td>\n",
       "      <td>NaN</td>\n",
       "      <td>368616.0</td>\n",
       "      <td>171.0</td>\n",
       "      <td>2023</td>\n",
       "      <td>2023-10176804</td>\n",
       "    </tr>\n",
       "    <tr>\n",
       "      <th>1</th>\n",
       "      <td>6169481</td>\n",
       "      <td>Ad Valorem</td>\n",
       "      <td>2924 11 ST NE</td>\n",
       "      <td>Calgary</td>\n",
       "      <td>t2e7l7</td>\n",
       "      <td>Alberta</td>\n",
       "      <td>Office</td>\n",
       "      <td>1</td>\n",
       "      <td>1981</td>\n",
       "      <td>7770</td>\n",
       "      <td>...</td>\n",
       "      <td>243</td>\n",
       "      <td>31.2</td>\n",
       "      <td>1091854</td>\n",
       "      <td>4725</td>\n",
       "      <td>NaN</td>\n",
       "      <td>NaN</td>\n",
       "      <td>1091854.0</td>\n",
       "      <td>508.0</td>\n",
       "      <td>2023</td>\n",
       "      <td>2023-6169481</td>\n",
       "    </tr>\n",
       "    <tr>\n",
       "      <th>2</th>\n",
       "      <td>6305956</td>\n",
       "      <td>Alberta Trade Centre</td>\n",
       "      <td>315 10 AV SE</td>\n",
       "      <td>Calgary</td>\n",
       "      <td>T2G 0W2</td>\n",
       "      <td>Alberta</td>\n",
       "      <td>Office</td>\n",
       "      <td>1</td>\n",
       "      <td>1974</td>\n",
       "      <td>6681</td>\n",
       "      <td>...</td>\n",
       "      <td>0</td>\n",
       "      <td>0.0</td>\n",
       "      <td>508589</td>\n",
       "      <td>3</td>\n",
       "      <td>2180</td>\n",
       "      <td>NaN</td>\n",
       "      <td>508589.0</td>\n",
       "      <td>236.0</td>\n",
       "      <td>2023</td>\n",
       "      <td>2023-6305956</td>\n",
       "    </tr>\n",
       "    <tr>\n",
       "      <th>3</th>\n",
       "      <td>8854296</td>\n",
       "      <td>Andrew Davison</td>\n",
       "      <td>133 6 AV SE</td>\n",
       "      <td>Calgary</td>\n",
       "      <td>T2G0G2</td>\n",
       "      <td>Alberta</td>\n",
       "      <td>Office</td>\n",
       "      <td>1</td>\n",
       "      <td>1979</td>\n",
       "      <td>17468</td>\n",
       "      <td>...</td>\n",
       "      <td>26</td>\n",
       "      <td>1.5</td>\n",
       "      <td>1152308</td>\n",
       "      <td>506</td>\n",
       "      <td>6582</td>\n",
       "      <td>NaN</td>\n",
       "      <td>1152308.0</td>\n",
       "      <td>536.0</td>\n",
       "      <td>2023</td>\n",
       "      <td>2023-8854296</td>\n",
       "    </tr>\n",
       "    <tr>\n",
       "      <th>4</th>\n",
       "      <td>21988603</td>\n",
       "      <td>Animal Services Centre</td>\n",
       "      <td>2201 PORTLAND ST SE</td>\n",
       "      <td>Calgary</td>\n",
       "      <td>T2G 4M7</td>\n",
       "      <td>Alberta</td>\n",
       "      <td>Office</td>\n",
       "      <td>1</td>\n",
       "      <td>2000</td>\n",
       "      <td>2143</td>\n",
       "      <td>...</td>\n",
       "      <td>253</td>\n",
       "      <td>118.1</td>\n",
       "      <td>508594</td>\n",
       "      <td>4926</td>\n",
       "      <td>NaN</td>\n",
       "      <td>NaN</td>\n",
       "      <td>508594.0</td>\n",
       "      <td>236.0</td>\n",
       "      <td>2023</td>\n",
       "      <td>2023-21988603</td>\n",
       "    </tr>\n",
       "  </tbody>\n",
       "</table>\n",
       "<p>5 rows × 31 columns</p>\n",
       "</div>"
      ],
      "text/plain": [
       "   Property Id                    Property Name             Address 1  \\\n",
       "0     10176804  Acadia Aquatic & Fitness Centre  9009 Fairmount Dr SE   \n",
       "1      6169481                       Ad Valorem         2924 11 ST NE   \n",
       "2      6305956             Alberta Trade Centre          315 10 AV SE   \n",
       "3      8854296                   Andrew Davison           133 6 AV SE   \n",
       "4     21988603           Animal Services Centre   2201 PORTLAND ST SE   \n",
       "\n",
       "      City Postal Code Province Primary Property Type - Self Selected  \\\n",
       "0  Calgary     T2H 0Z4  Alberta                  Heated Swimming Pool   \n",
       "1  Calgary      t2e7l7  Alberta                                Office   \n",
       "2  Calgary     T2G 0W2  Alberta                                Office   \n",
       "3  Calgary      T2G0G2  Alberta                                Office   \n",
       "4  Calgary     T2G 4M7  Alberta                                Office   \n",
       "\n",
       "   Number of Buildings  Year Built Property GFA - Self-Reported (m²)  ...  \\\n",
       "0                    1        2010                              1838  ...   \n",
       "1                    1        1981                              7770  ...   \n",
       "2                    1        1974                              6681  ...   \n",
       "3                    1        1979                             17468  ...   \n",
       "4                    1        2000                              2143  ...   \n",
       "\n",
       "   Direct GHG Emissions (Metric Tons CO2e)  \\\n",
       "0                                      280   \n",
       "1                                      243   \n",
       "2                                        0   \n",
       "3                                       26   \n",
       "4                                      253   \n",
       "\n",
       "  Direct GHG Emissions Intensity (kgCO2e/m²)  \\\n",
       "0                                      152.4   \n",
       "1                                       31.2   \n",
       "2                                        0.0   \n",
       "3                                        1.5   \n",
       "4                                      118.1   \n",
       "\n",
       "  Electricity Use - Grid Purchase (kWh)  Natural Gas Use (GJ)  \\\n",
       "0                                368616                  5453   \n",
       "1                               1091854                  4725   \n",
       "2                                508589                     3   \n",
       "3                               1152308                   506   \n",
       "4                                508594                  4926   \n",
       "\n",
       "   District Hot Water Use (GJ)  \\\n",
       "0                          NaN   \n",
       "1                          NaN   \n",
       "2                         2180   \n",
       "3                         6582   \n",
       "4                          NaN   \n",
       "\n",
       "  Electricity Use – Generated from Onsite Renewable Systems (kWh)  \\\n",
       "0                                                NaN                \n",
       "1                                                NaN                \n",
       "2                                                NaN                \n",
       "3                                                NaN                \n",
       "4                                                NaN                \n",
       "\n",
       "  Green Power - Onsite and Offsite (kWh)  \\\n",
       "0                               368616.0   \n",
       "1                              1091854.0   \n",
       "2                               508589.0   \n",
       "3                              1152308.0   \n",
       "4                               508594.0   \n",
       "\n",
       "   Avoided Emissions - Onsite and Offsite Green Power (Metric Tons CO2e)  \\\n",
       "0                                              171.0                       \n",
       "1                                              508.0                       \n",
       "2                                              236.0                       \n",
       "3                                              536.0                       \n",
       "4                                              236.0                       \n",
       "\n",
       "   Year Ending      Unique ID  \n",
       "0         2023  2023-10176804  \n",
       "1         2023   2023-6169481  \n",
       "2         2023   2023-6305956  \n",
       "3         2023   2023-8854296  \n",
       "4         2023  2023-21988603  \n",
       "\n",
       "[5 rows x 31 columns]"
      ]
     },
     "execution_count": 20,
     "metadata": {},
     "output_type": "execute_result"
    }
   ],
   "source": [
    "df_raw.head(5)"
   ]
  },
  {
   "cell_type": "markdown",
   "metadata": {},
   "source": [
    "### Handling Missing Data"
   ]
  },
  {
   "cell_type": "code",
   "execution_count": 21,
   "metadata": {},
   "outputs": [
    {
     "name": "stdout",
     "output_type": "stream",
     "text": [
      "(494, 31)\n",
      "(494, 28)\n"
     ]
    }
   ],
   "source": [
    "print(df_raw.shape)\n",
    "df_raw = config.clean.clean_missing_values(df_raw)\n",
    "print(df_raw.shape)"
   ]
  },
  {
   "cell_type": "code",
   "execution_count": 22,
   "metadata": {},
   "outputs": [
    {
     "data": {
      "text/plain": [
       "Index(['Property Id', 'Property Name', 'Address 1', 'City', 'Postal Code',\n",
       "       'Province', 'Primary Property Type - Self Selected',\n",
       "       'Number of Buildings', 'Year Built',\n",
       "       'Property GFA - Self-Reported (m²)', 'Site Energy Use (GJ)',\n",
       "       'Weather Normalized Site Energy Use (GJ)', 'Site EUI (GJ/m²)',\n",
       "       'Weather Normalized Site EUI (GJ/m²)', 'Source Energy Use (GJ)',\n",
       "       'Weather Normalized Source Energy Use (GJ)', 'Source EUI (GJ/m²)',\n",
       "       'Weather Normalized Source EUI (GJ/m²)',\n",
       "       'Total GHG Emissions (Metric Tons CO2e)',\n",
       "       'Total GHG Emissions Intensity (kgCO2e/m²)',\n",
       "       'Direct GHG Emissions (Metric Tons CO2e)',\n",
       "       'Direct GHG Emissions Intensity (kgCO2e/m²)',\n",
       "       'Electricity Use - Grid Purchase (kWh)', 'Natural Gas Use (GJ)',\n",
       "       'Green Power - Onsite and Offsite (kWh)',\n",
       "       'Avoided Emissions - Onsite and Offsite Green Power (Metric Tons CO2e)',\n",
       "       'Year Ending', 'Unique ID'],\n",
       "      dtype='object')"
      ]
     },
     "execution_count": 22,
     "metadata": {},
     "output_type": "execute_result"
    }
   ],
   "source": [
    "df_raw.columns"
   ]
  },
  {
   "cell_type": "markdown",
   "metadata": {},
   "source": [
    "### Extracting and Cleaning Data Using Regex"
   ]
  },
  {
   "cell_type": "code",
   "execution_count": 23,
   "metadata": {},
   "outputs": [
    {
     "name": "stderr",
     "output_type": "stream",
     "text": [
      "c:\\Users\\Joshua Q\\Documents\\Personal\\grad school\\Ucalgary\\DATA 601 - Working with Data and Visualization\\submissions\\HW4\\notebooks\\clean.py:48: UserWarning: This pattern is interpreted as a regular expression, and has match groups. To actually get the groups, use str.extract.\n",
      "  # Applies the following format to all adresses\n"
     ]
    }
   ],
   "source": [
    "df_raw = config.clean.format_values(df_raw)"
   ]
  },
  {
   "cell_type": "code",
   "execution_count": 24,
   "metadata": {},
   "outputs": [
    {
     "data": {
      "text/plain": [
       "211          350 42 AV SW\n",
       "212         2539 33 AV SW\n",
       "213         5603 24 ST SE\n",
       "214          3415 8 AV SW\n",
       "215          840 32 AV NE\n",
       "216         3705 35 ST NE\n",
       "217    1807 Macleod TR SE\n",
       "218          677 25 AV SE\n",
       "219         1010 10 AV SW\n",
       "220         1991 18 AV NE\n",
       "Name: Address 1, dtype: object"
      ]
     },
     "execution_count": 24,
     "metadata": {},
     "output_type": "execute_result"
    }
   ],
   "source": [
    "df_raw[\"Address 1\"][211:221]"
   ]
  },
  {
   "cell_type": "code",
   "execution_count": null,
   "metadata": {},
   "outputs": [
    {
     "name": "stderr",
     "output_type": "stream",
     "text": [
      "c:\\Users\\Joshua Q\\Documents\\Personal\\grad school\\Ucalgary\\DATA 601 - Working with Data and Visualization\\submissions\\HW4\\notebooks\\clean.py:48: UserWarning: This pattern is interpreted as a regular expression, and has match groups. To actually get the groups, use str.extract.\n",
      "  # Applies the following format to all adresses\n",
      "c:\\Users\\Joshua Q\\Documents\\Personal\\grad school\\Ucalgary\\DATA 601 - Working with Data and Visualization\\submissions\\HW4\\notebooks\\clean.py:77: SettingWithCopyWarning: \n",
      "A value is trying to be set on a copy of a slice from a DataFrame.\n",
      "Try using .loc[row_indexer,col_indexer] = value instead\n",
      "\n",
      "See the caveats in the documentation: https://pandas.pydata.org/pandas-docs/stable/user_guide/indexing.html#returning-a-view-versus-a-copy\n",
      "  \"\"\"\n",
      "c:\\Users\\Joshua Q\\Documents\\Personal\\grad school\\Ucalgary\\DATA 601 - Working with Data and Visualization\\submissions\\HW4\\notebooks\\clean.py:77: SettingWithCopyWarning: \n",
      "A value is trying to be set on a copy of a slice from a DataFrame\n",
      "\n",
      "See the caveats in the documentation: https://pandas.pydata.org/pandas-docs/stable/user_guide/indexing.html#returning-a-view-versus-a-copy\n",
      "  \"\"\"\n"
     ]
    }
   ],
   "source": [
    "config.main()[1].to_csv(\"../data/cleaned/data_cleaned.csv\")"
   ]
  }
 ],
 "metadata": {
  "kernelspec": {
   "display_name": "Python 3",
   "language": "python",
   "name": "python3"
  },
  "language_info": {
   "codemirror_mode": {
    "name": "ipython",
    "version": 3
   },
   "file_extension": ".py",
   "mimetype": "text/x-python",
   "name": "python",
   "nbconvert_exporter": "python",
   "pygments_lexer": "ipython3",
   "version": "3.10.2"
  }
 },
 "nbformat": 4,
 "nbformat_minor": 2
}
